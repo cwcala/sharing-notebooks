{
  "nbformat": 4,
  "nbformat_minor": 0,
  "metadata": {
    "colab": {
      "name": "Copie de noshow.ipynb",
      "provenance": [],
      "private_outputs": true,
      "collapsed_sections": [],
      "authorship_tag": "ABX9TyMQ+fVZEKQUzDTkD6SULqyW",
      "include_colab_link": true
    },
    "kernelspec": {
      "name": "python3",
      "display_name": "Python 3"
    }
  },
  "cells": [
    {
      "cell_type": "markdown",
      "metadata": {
        "id": "view-in-github",
        "colab_type": "text"
      },
      "source": [
        "<a href=\"https://colab.research.google.com/github/cwcala/sharing-notebooks/blob/master/Copie_de_noshow.ipynb\" target=\"_parent\"><img src=\"https://colab.research.google.com/assets/colab-badge.svg\" alt=\"Open In Colab\"/></a>"
      ]
    },
    {
      "cell_type": "code",
      "metadata": {
        "id": "htp_opDw43aA",
        "colab_type": "code",
        "colab": {}
      },
      "source": [
        "import pandas as pd\n",
        "import numpy as np\n",
        "import sklearn\n",
        "import matplotlib.pyplot as plt\n",
        "from pandas import Series, DataFrame\n",
        "from pylab import rcParams\n",
        "from sklearn import preprocessing\n",
        "from sklearn.linear_model import LogisticRegression\n",
        "from sklearn.model_selection import train_test_split\n",
        "from sklearn.model_selection import cross_val_predict\n",
        "from sklearn import metrics\n",
        "from sklearn.metrics import classification_report\n",
        "from sklearn.metrics import confusion_matrix\n",
        "from sklearn.metrics import precision_score, recall_score\n",
        "import seaborn as sb\n",
        "import chart_studio.plotly as py\n",
        "import plotly.express as px\n",
        "import plotly.graph_objs as go\n",
        "import plotly.tools as tls\n",
        "from plotly.offline import iplot, init_notebook_mode\n",
        "import cufflinks\n",
        "import cufflinks as cf\n",
        "init_notebook_mode(connected=True)\n",
        "cufflinks.go_offline(connected=True)\n",
        "import gc\n",
        "import warnings\n",
        "warnings.filterwarnings(\"ignore\")\n",
        "\n",
        "%matplotlib inline\n",
        "rcParams['figure.figsize']= 5,4\n",
        "sb.set_style('whitegrid')\n"
      ],
      "execution_count": 0,
      "outputs": []
    },
    {
      "cell_type": "code",
      "metadata": {
        "id": "SlVp7Mtt5UAw",
        "colab_type": "code",
        "colab": {}
      },
      "source": [
        "noshow = pd.read_csv('/content/KaggleV2-May-2016.csv')\n",
        "noshow.head()"
      ],
      "execution_count": 0,
      "outputs": []
    },
    {
      "cell_type": "code",
      "metadata": {
        "id": "qjBWDTLwoVq1",
        "colab_type": "code",
        "colab": {}
      },
      "source": [
        "noshow.columns = ['PatientId','AppointmentId','Gender','ScheduledDate','AppointmentDate','Age','Neighborhood','Scholarship','Hypertension','Diabetes','Alcoholism','Handicap','SMS_received','No-show']"
      ],
      "execution_count": 0,
      "outputs": []
    },
    {
      "cell_type": "code",
      "metadata": {
        "id": "ICmSM2RBp15e",
        "colab_type": "code",
        "colab": {}
      },
      "source": [
        "age = noshow.Age\n",
        "plt.plot(age)"
      ],
      "execution_count": 0,
      "outputs": []
    },
    {
      "cell_type": "code",
      "metadata": {
        "id": "iRZgDsVHqXeR",
        "colab_type": "code",
        "colab": {}
      },
      "source": [
        "noshow[['Age']].describe()"
      ],
      "execution_count": 0,
      "outputs": []
    },
    {
      "cell_type": "code",
      "metadata": {
        "id": "fQh7j_aPuTGn",
        "colab_type": "code",
        "colab": {}
      },
      "source": [
        ""
      ],
      "execution_count": 0,
      "outputs": []
    },
    {
      "cell_type": "code",
      "metadata": {
        "id": "cI_cWOGWt6SO",
        "colab_type": "code",
        "colab": {}
      },
      "source": [
        "sb.pairplot(noshow,hue='No-show',palette='hls')"
      ],
      "execution_count": 0,
      "outputs": []
    },
    {
      "cell_type": "code",
      "metadata": {
        "id": "2iNcf-Jv3Fgh",
        "colab_type": "code",
        "colab": {}
      },
      "source": [
        "ns = noshow.dropna()"
      ],
      "execution_count": 0,
      "outputs": []
    },
    {
      "cell_type": "code",
      "metadata": {
        "id": "BmW9nCwHwTI8",
        "colab_type": "code",
        "colab": {}
      },
      "source": [
        "X = ns.iloc[:,2:12].values\n",
        "y = ns.iloc[:,13].values\n",
        "ns.head()"
      ],
      "execution_count": 0,
      "outputs": []
    },
    {
      "cell_type": "code",
      "metadata": {
        "id": "TMwod8uDyDdk",
        "colab_type": "code",
        "colab": {}
      },
      "source": [
        "noshow.boxplot(return_type='dict')\n",
        "plt.plot()"
      ],
      "execution_count": 0,
      "outputs": []
    },
    {
      "cell_type": "code",
      "metadata": {
        "id": "r76c97Odyhvx",
        "colab_type": "code",
        "colab": {}
      },
      "source": [
        "Age = X[:,3]\n",
        "Age_outliers = (Age>100)\n",
        "noshow[Age_outliers]"
      ],
      "execution_count": 0,
      "outputs": []
    },
    {
      "cell_type": "code",
      "metadata": {
        "id": "KgCxH4E11NPZ",
        "colab_type": "code",
        "colab": {}
      },
      "source": [
        "sms = X[:10]"
      ],
      "execution_count": 0,
      "outputs": []
    },
    {
      "cell_type": "code",
      "metadata": {
        "id": "yPwuWsq24P4x",
        "colab_type": "code",
        "colab": {}
      },
      "source": [
        "ns.isna().sum()"
      ],
      "execution_count": 0,
      "outputs": []
    },
    {
      "cell_type": "code",
      "metadata": {
        "id": "BVr2IapG76kU",
        "colab_type": "code",
        "colab": {}
      },
      "source": [
        "print(f\"Unique Patients: {ns.PatientId.nunique()} Appointments: {ns.AppointmentId.nunique()} Avg Appointments per Patient: {int(ns.AppointmentId.nunique())/int(ns.PatientId.nunique())}\")"
      ],
      "execution_count": 0,
      "outputs": []
    },
    {
      "cell_type": "code",
      "metadata": {
        "id": "_cFLDpxR9jaB",
        "colab_type": "code",
        "colab": {}
      },
      "source": [
        "def plotly_plots(df, column, plot_type='bar', title=None, xTitle=None, yTitle=None):\n",
        "    temp = df[column].value_counts()\n",
        "    temp.iplot(kind=plot_type, title=title, xTitle=xTitle, yTitle=yTitle)"
      ],
      "execution_count": 0,
      "outputs": []
    },
    {
      "cell_type": "code",
      "metadata": {
        "id": "99uKazbgCTT5",
        "colab_type": "code",
        "colab": {}
      },
      "source": [
        "def enable_plotly_in_cell():\n",
        "  import IPython\n",
        "  from plotly.offline import init_notebook_mode\n",
        "  display(IPython.core.display.HTML('''<script src=\"/static/components/requirejs/require.js\"></script>'''))\n",
        "  init_notebook_mode(connected=False)"
      ],
      "execution_count": 0,
      "outputs": []
    },
    {
      "cell_type": "code",
      "metadata": {
        "id": "62l3vvx--WY1",
        "colab_type": "code",
        "colab": {}
      },
      "source": [
        "enable_plotly_in_cell()\n",
        "plotly_plots(ns, 'No-show', title='distribution show vs noshow',\n",
        "             xTitle='No-Show', \n",
        "             yTitle='Count')"
      ],
      "execution_count": 0,
      "outputs": []
    },
    {
      "cell_type": "code",
      "metadata": {
        "id": "0vOFJi2T_vmr",
        "colab_type": "code",
        "colab": {}
      },
      "source": [
        "enable_plotly_in_cell()\n",
        "fig = go.Figure(\n",
        "    data=[go.Bar(y=ns['No-show'].value_counts())],\n",
        "    layout_title_text=\"No-show data\"\n",
        ")\n",
        "fig.show()"
      ],
      "execution_count": 0,
      "outputs": []
    },
    {
      "cell_type": "code",
      "metadata": {
        "id": "hDbgsuk_CodU",
        "colab_type": "code",
        "colab": {}
      },
      "source": [
        "enable_plotly_in_cell()\n",
        "fig = px.histogram(ns, x=\"Age\")\n",
        "fig.show()"
      ],
      "execution_count": 0,
      "outputs": []
    },
    {
      "cell_type": "code",
      "metadata": {
        "id": "jJYNiyAdDit1",
        "colab_type": "code",
        "colab": {}
      },
      "source": [
        "ns.Age.describe()"
      ],
      "execution_count": 0,
      "outputs": []
    },
    {
      "cell_type": "code",
      "metadata": {
        "id": "Gi0Udi-KDvkk",
        "colab_type": "code",
        "colab": {}
      },
      "source": [
        "ns.Age.value_counts()"
      ],
      "execution_count": 0,
      "outputs": []
    },
    {
      "cell_type": "code",
      "metadata": {
        "id": "oN9RMIKFEJCU",
        "colab_type": "code",
        "colab": {}
      },
      "source": [
        "ns = ns[(ns.Age >= 0 ) & (ns.Age <= 102)]"
      ],
      "execution_count": 0,
      "outputs": []
    },
    {
      "cell_type": "code",
      "metadata": {
        "id": "GoHc9bjlER5u",
        "colab_type": "code",
        "colab": {}
      },
      "source": [
        "bins= [0,14,24,64,115]\n",
        "labels = ['Child','Youth','Adult','Senior']\n",
        "ns['AgeGroup'] = pd.cut(ns['Age'], bins=bins, labels=labels, right=False)"
      ],
      "execution_count": 0,
      "outputs": []
    },
    {
      "cell_type": "code",
      "metadata": {
        "id": "emVGKsfEFeiY",
        "colab_type": "code",
        "colab": {}
      },
      "source": [
        "ages = pd.crosstab(ns['AgeGroup'], ns['No-show'], normalize='index')\n",
        "stacked = ages.unstack().reset_index().rename(columns={0:'value'})\n",
        "plt.figure(figsize=(16,12))\n",
        "plt.subplot(211)\n",
        "ax1 = sb.countplot(x=\"AgeGroup\", data=ns)\n",
        "ax1.set_title(\"Count by Age Category\", fontsize=22)\n",
        "ax1.set_xlabel(\"Age Categories\", fontsize=18)\n",
        "ax1.set_ylabel(\"Count\", fontsize=18)"
      ],
      "execution_count": 0,
      "outputs": []
    },
    {
      "cell_type": "code",
      "metadata": {
        "id": "CIVSZ9SeGWvf",
        "colab_type": "code",
        "colab": {}
      },
      "source": [
        "plt.subplot(212)\n",
        "ax2 = sb.barplot(x=stacked.AgeGroup, y=stacked.value, hue=stacked['No-show'])\n",
        "ax2.set_title(\"No Show by Age Categories\", fontsize=22)\n",
        "ax2.set_xlabel(\"Age Categories\", fontsize=18)\n",
        "ax2.set_ylabel(\"Count\", fontsize=18)\n",
        "ax2.legend(loc='out')"
      ],
      "execution_count": 0,
      "outputs": []
    },
    {
      "cell_type": "code",
      "metadata": {
        "id": "kqzyp7cGG0xk",
        "colab_type": "code",
        "colab": {}
      },
      "source": [
        "fig, axes = plt.subplots(nrows=3, ncols=2, figsize=(20,15))\n",
        "fig.subplots_adjust(hspace=0.3)\n",
        "fig.suptitle('No-show for binary features', fontsize=22)\n",
        "bf = ['Scholarship', 'Hypertension', 'Diabetes','Alcoholism', 'SMS_received', 'Gender']\n",
        "for ax, catplot in zip(axes.flatten(), ns[bf].columns):\n",
        "    sb.countplot(x=catplot, data=ns, hue='No-show', ax=ax)\n",
        "    ax.set_title(catplot.upper(), fontsize=18)\n",
        "    ax.set_ylabel('Count', fontsize=16)\n",
        "    ax.set_xlabel(f'{catplot.upper()} binary features', fontsize=15)\n",
        "    ax.legend(title='No-show', fontsize=12, )"
      ],
      "execution_count": 0,
      "outputs": []
    },
    {
      "cell_type": "code",
      "metadata": {
        "id": "6Cx3RSRqKKKf",
        "colab_type": "code",
        "colab": {}
      },
      "source": [
        "#turn dates into datetime objects\n",
        "ns['ScheduledDate']= pd.to_datetime(ns['ScheduledDate']) \n",
        "ns['AppointmentDate']= pd.to_datetime(ns['AppointmentDate']) "
      ],
      "execution_count": 0,
      "outputs": []
    },
    {
      "cell_type": "code",
      "metadata": {
        "id": "J-trbnfhKKXF",
        "colab_type": "code",
        "colab": {}
      },
      "source": [
        "sms_1 = ns.groupby([ns['AppointmentDate'].dt.date,\"SMS_received\", \"No-show\"])['PatientId'].count().reset_index().rename(columns={'PatientId': \"Total\"})"
      ],
      "execution_count": 0,
      "outputs": []
    },
    {
      "cell_type": "code",
      "metadata": {
        "id": "1Ar8aVIxKKdd",
        "colab_type": "code",
        "colab": {}
      },
      "source": [
        "plt.figure(figsize=(18,16))\n",
        "plt.subplot(3,1,1)\n",
        "g = sb.barplot(x='AppointmentDate', y= 'Total', hue='No-show', data=sms_1[sms_1['SMS_received'] == 0])\n",
        "g.set_xticklabels(g.get_xticklabels(),rotation=45)\n",
        "g.set_title(\"No-shows for patients not getting SMS\", fontsize=22)\n",
        "g.set_xlabel(\"Dates\", fontsize=18)\n",
        "g.set_ylabel(\"Count\", fontsize=18)\n",
        "plt.subplot(3,1,2)\n",
        "g1 = sb.barplot(x='AppointmentDate', y= 'Total', hue='No-show', data=sms_1[sms_1['SMS_received'] == 1])\n",
        "g1.set_xticklabels(g.get_xticklabels(),rotation=45)\n",
        "g1.set_title(\"No-shows for patients getting SMS\", fontsize=22)\n",
        "g1.set_xlabel(\"Dates\", fontsize=18)\n",
        "g1.set_ylabel(\"Count\", fontsize=18)\n",
        "plt.subplot(3,1,3)\n",
        "g2 = sb.boxplot(x='SMS_received', y= 'Age', hue='No-show', data=ns)\n",
        "g2.set_xticklabels(g2.get_xticklabels(),rotation=0)\n",
        "g2.set_title(\"No-shows by SMS and Age\", fontsize=22)\n",
        "g2.set_xlabel(\"Got SMS or not\", fontsize=18)\n",
        "g2.set_ylabel(\"Age Distribution\", fontsize=18)\n",
        "plt.subplots_adjust(hspace = 0.6)\n",
        "plt.show()"
      ],
      "execution_count": 0,
      "outputs": []
    },
    {
      "cell_type": "code",
      "metadata": {
        "id": "B34JE3djLvQe",
        "colab_type": "code",
        "colab": {}
      },
      "source": [
        "appts = ns.groupby([ns['PatientId'],'SMS_received','No-show'])['AppointmentId'].count().reset_index().rename(columns={'PatientId': \"Total\"})"
      ],
      "execution_count": 0,
      "outputs": []
    },
    {
      "cell_type": "code",
      "metadata": {
        "id": "kuIZuXEOMWFp",
        "colab_type": "code",
        "colab": {}
      },
      "source": [
        "sms = [1]\n",
        "nosho = ['Yes']\n",
        "graf = appts[appts.SMS_received.isin(sms) & \n",
        "           appts['No-show'].isin(nosho)].sort_values(['AppointmentId'], ascending=[False])"
      ],
      "execution_count": 0,
      "outputs": []
    },
    {
      "cell_type": "code",
      "metadata": {
        "id": "F3GI3bRkWxzc",
        "colab_type": "code",
        "colab": {}
      },
      "source": [
        "graf"
      ],
      "execution_count": 0,
      "outputs": []
    },
    {
      "cell_type": "code",
      "metadata": {
        "id": "XUupbpIDVQbi",
        "colab_type": "code",
        "colab": {}
      },
      "source": [
        "test = appts.sort_values(['AppointmentId'], ascending=[False])"
      ],
      "execution_count": 0,
      "outputs": []
    },
    {
      "cell_type": "code",
      "metadata": {
        "id": "dAk28bRVMWAO",
        "colab_type": "code",
        "colab": {}
      },
      "source": [
        "test"
      ],
      "execution_count": 0,
      "outputs": []
    },
    {
      "cell_type": "code",
      "metadata": {
        "id": "sR2gcpQ9WmeZ",
        "colab_type": "code",
        "colab": {}
      },
      "source": [
        ""
      ],
      "execution_count": 0,
      "outputs": []
    },
    {
      "cell_type": "code",
      "metadata": {
        "id": "UHo9M4FaKKUm",
        "colab_type": "code",
        "colab": {}
      },
      "source": [
        "ns.Neighborhood.value_counts()"
      ],
      "execution_count": 0,
      "outputs": []
    },
    {
      "cell_type": "code",
      "metadata": {
        "id": "yGUFSo_fKKSI",
        "colab_type": "code",
        "colab": {}
      },
      "source": [
        "neigh = pd.crosstab(ns['Neighborhood'], ns['No-show'], normalize='index')\n",
        "stacked = neigh.unstack().reset_index().rename(columns={0:'value'})\n",
        "plt.figure(figsize=(16,12))\n",
        "plt.subplot(211)\n",
        "ax1 = sb.countplot(x=\"Neighborhood\", data=ns)\n",
        "ax1.set_title(\"Count by Neighborhood\", fontsize=22)\n",
        "ax1.set_xlabel(\"Neghborhood\", fontsize=18)\n",
        "ax1.set_ylabel(\"Count\", fontsize=18)"
      ],
      "execution_count": 0,
      "outputs": []
    },
    {
      "cell_type": "code",
      "metadata": {
        "id": "2IAPh_RCG19-",
        "colab_type": "code",
        "colab": {}
      },
      "source": [
        "plt.figure(figsize=(16,12))\n",
        "ax2 = sb.barplot(x=stacked.Neighborhood, y=stacked.value, hue=stacked['No-show'])\n",
        "ax2.set_title(\"No Show by Neighborhood\", fontsize=22)\n",
        "ax2.set_xlabel(\"Neighborhood\", fontsize=18)\n",
        "ax2.set_ylabel(\"Count\", fontsize=18)\n",
        "ax2.legend(loc='out')"
      ],
      "execution_count": 0,
      "outputs": []
    },
    {
      "cell_type": "code",
      "metadata": {
        "id": "v-XKwuBbG2Hx",
        "colab_type": "code",
        "colab": {}
      },
      "source": [
        "test = neigh.sort_values('Yes', ascending=False)\n",
        "test"
      ],
      "execution_count": 0,
      "outputs": []
    },
    {
      "cell_type": "code",
      "metadata": {
        "id": "Q_7ttSo9G2DQ",
        "colab_type": "code",
        "colab": {}
      },
      "source": [
        "plt.hist(test.Yes)"
      ],
      "execution_count": 0,
      "outputs": []
    },
    {
      "cell_type": "code",
      "metadata": {
        "id": "_nWT279E1_-L",
        "colab_type": "code",
        "colab": {}
      },
      "source": [
        "neigh1 = ns.groupby([ns['Neighborhood'], \"No-show\"])['PatientId'].count().reset_index().rename(columns={'PatientId': \"Total\"})\n",
        "plt.figure(figsize=(18,16))\n",
        "plt.subplot(3,1,1)\n",
        "g = sb.barplot(x='Neighborhood', y= 'Total', hue='No-show', data=neigh1[neigh1['No-show'] == 1])\n",
        "g.set_xticklabels(g.get_xticklabels(),rotation=45)\n",
        "g.set_title(\"No-shows by Neighborhood\", fontsize=22)\n",
        "g.set_xlabel(\"Neighborhood\", fontsize=18)\n",
        "g.set_ylabel(\"Count\", fontsize=18)"
      ],
      "execution_count": 0,
      "outputs": []
    },
    {
      "cell_type": "code",
      "metadata": {
        "id": "JsnydETRXr_F",
        "colab_type": "code",
        "colab": {}
      },
      "source": [
        "neigh1"
      ],
      "execution_count": 0,
      "outputs": []
    },
    {
      "cell_type": "code",
      "metadata": {
        "id": "LQATRo92gRaT",
        "colab_type": "code",
        "colab": {}
      },
      "source": [
        "plt.bar(neigh1.Neighborhood,neigh1.Total)"
      ],
      "execution_count": 0,
      "outputs": []
    },
    {
      "cell_type": "code",
      "metadata": {
        "id": "HyLNiiNnaAuD",
        "colab_type": "code",
        "colab": {}
      },
      "source": [
        "neigh2 = neigh1.loc[neigh1[\"No-show\"] == 'Yes']\n",
        "neigh2"
      ],
      "execution_count": 0,
      "outputs": []
    },
    {
      "cell_type": "code",
      "metadata": {
        "id": "z2q8pqTZdc8E",
        "colab_type": "code",
        "colab": {}
      },
      "source": [
        "neigh2.sort_values(\"Total\",ascending=False)"
      ],
      "execution_count": 0,
      "outputs": []
    },
    {
      "cell_type": "code",
      "metadata": {
        "id": "nxcdmcQjd8h-",
        "colab_type": "code",
        "colab": {}
      },
      "source": [
        "plt.plot(neigh2.Neighborhood,neigh2.Total)\n"
      ],
      "execution_count": 0,
      "outputs": []
    },
    {
      "cell_type": "code",
      "metadata": {
        "id": "SxZ4KF8QbFdw",
        "colab_type": "code",
        "colab": {}
      },
      "source": [
        "neigh3= neigh1.loc[neigh1[\"No-show\"] == 'No']\n",
        "neigh3.sort_values(\"Total\",ascending=False)"
      ],
      "execution_count": 0,
      "outputs": []
    },
    {
      "cell_type": "code",
      "metadata": {
        "id": "GjXdAkT4gC44",
        "colab_type": "code",
        "colab": {}
      },
      "source": [
        "plt.plot(neigh3.Neighborhood,neigh3.Total)\n"
      ],
      "execution_count": 0,
      "outputs": []
    },
    {
      "cell_type": "code",
      "metadata": {
        "id": "W-tPJEBRk2xV",
        "colab_type": "code",
        "colab": {}
      },
      "source": [
        "unineigh = ns['Neighborhood'].unique().tolist()"
      ],
      "execution_count": 0,
      "outputs": []
    },
    {
      "cell_type": "code",
      "metadata": {
        "id": "G5--M5JlnRjK",
        "colab_type": "code",
        "colab": {}
      },
      "source": [
        "unineigh"
      ],
      "execution_count": 0,
      "outputs": []
    },
    {
      "cell_type": "code",
      "metadata": {
        "id": "xihRQ33UobMK",
        "colab_type": "code",
        "colab": {}
      },
      "source": [
        "len(unineigh)"
      ],
      "execution_count": 0,
      "outputs": []
    },
    {
      "cell_type": "markdown",
      "metadata": {
        "id": "DNGletV_vQ7V",
        "colab_type": "text"
      },
      "source": [
        "listing of neigborhoods and correspondence to administrative regions to classify 81 neighborhoods in 10 administrative regions\n",
        "https://pt.wikipedia.org/wiki/Lista_de_bairros_de_Vit%C3%B3ria"
      ]
    },
    {
      "cell_type": "code",
      "metadata": {
        "id": "PmxUpIhXnykO",
        "colab_type": "code",
        "colab": {}
      },
      "source": [
        "neighnames = {\"CENTRO\": 1, \"DO MOSCOSO\": 1, \"FONTE GRANDE\":1, \"ILHA DO PRÍNCIPE\":1, \"PARQUE MOSCOSO\":1, \"PIEDADE\":1,\"SANTA CLARA\":1, \"VILA RUBIM\":1,\"ARIOVALDO FAVALESSA\":2, \"BELA VISTA\":2, \"CARATOÍRA\":2, \"DO CABRAL\":2, \"DO QUADRO\":2, \"ESTRELINHA\":2,\"GRANDE VITÓRIA\": 2, \"INHANGUETÁ\":2, \"MÁRIO CYPRESTE\":2, \"SANTO ANTÔNIO\":2, \"SANTA TEREZA\":2, \"UNIVERSITÁRIO\":2,\"BENTO FERREIRA\":3, \"CONSOLAÇÃO\":3,\"CRUZAMENTO\":3, \"DE LOURDES\":3, \"FORTE SÃO JOÃO\":3, \"FRADINHOS\":3, \"GURIGICA\":3, \"HORTO\":3, \"ILHA DE SANTA MARIA\":3, \"JESUS DE NAZARETH\":3, \"JUCUTUQUARA\":3, \"MONTE BELO\":3, \"NAZARETH\":3, \"ROMÃO\":3,\"ANDORINHAS\":4, \"BONFIM\":4, \"DA PENHA\":4,\"ITARARÉ\":4, \"JOANA D´ARC\":4, \"MARUÍPE\":4, \"SANTA CECÍLIA\":4, \"SANTA MARTHA\":4, \"SANTOS DUMONT\":4,\"SÃO BENEDITO\":4, \"SÃO CRISTÓVÃO\":4, \"TABUAZEIRO\":4,\"BARRO VERMELHO\":5, \"ENSEADA DO SUÁ\":5, \"ILHA DO BOI\":5, \"ILHA DO FRADE\":5, \"PRAIA DO CANTO\":5, \"PRAIA DO SUÁ\":5, \"SANTA HELENA\":5, \"SANTA LÚCIA\":5, \"SANTA LUÍZA\":5,\"COMDUSA\":7,\"CONQUISTA\":7, \"ILHA DAS CAIEIRAS\":7,\"NOVA PALESTINA\":7, \"REDENÇÃO\":7,  \"RESISTÊNCIA\":7, \"SANTO ANDRÉ\":7, \"SANTOS REIS\":7, \"SÃO JOSÉ\":7, \"SÃO PEDRO\":7, \"AEROPORTO\":6, \"ANTÔNIO HONÓRIO\":6, \"GOIABEIRAS\":6, \"JABOUR\":6, \"MARIA ORTIZ\":6, \"SEGURANÇA DO LAR\":6, \"SOLON BORGES\":6,\"JARDIM CAMBURI\": 8, \"PARQUE INDUSTRIAL\":8, \"BOA VISTA\": 9, \"JARDIM DA PENHA\":9, \"MATA DA PRAIA\":9, \"MORADA DE CAMBURI\":9, \"PONTAL DE CAMBURI\":9,\"REPÚBLICA\":9,\"ILHAS OCEÂNICAS DE TRINDADE\":10}"
      ],
      "execution_count": 0,
      "outputs": []
    },
    {
      "cell_type": "code",
      "metadata": {
        "id": "18eIYiw4JlsE",
        "colab_type": "code",
        "colab": {}
      },
      "source": [
        "len(neighnames)"
      ],
      "execution_count": 0,
      "outputs": []
    },
    {
      "cell_type": "code",
      "metadata": {
        "id": "ACHsHmolJp8R",
        "colab_type": "code",
        "colab": {}
      },
      "source": [
        "#check difference between lists of neighborhoods to put them into regions\n",
        "missing = []\n",
        "for term in unineigh:\n",
        "  if term in neighnames:\n",
        "    pass\n",
        "  else:\n",
        "    missing.append(term)\n",
        "missing"
      ],
      "execution_count": 0,
      "outputs": []
    },
    {
      "cell_type": "code",
      "metadata": {
        "id": "bx5cTj-hlAMJ",
        "colab_type": "code",
        "colab": {}
      },
      "source": [
        "ns['AdminRegion'] = ns['Neighborhood'].map(neighnames)"
      ],
      "execution_count": 0,
      "outputs": []
    },
    {
      "cell_type": "code",
      "metadata": {
        "id": "DUAeISt9WOQY",
        "colab_type": "code",
        "colab": {}
      },
      "source": [
        "#group to plot no-shows by Admin Region\n",
        "ar = pd.crosstab(ns['AdminRegion'], ns['No-show'], normalize='index')\n",
        "stacked = ar.unstack().reset_index().rename(columns={0:'value'})"
      ],
      "execution_count": 0,
      "outputs": []
    },
    {
      "cell_type": "code",
      "metadata": {
        "id": "g9owJgP-WI6-",
        "colab_type": "code",
        "colab": {}
      },
      "source": [
        "plt.subplot(212)\n",
        "ax2 = sb.barplot(x=stacked.AdminRegion, y=stacked.value, hue=stacked['No-show'])\n",
        "ax2.set_title(\"No Show by Administrative Region\", fontsize=22)\n",
        "ax2.set_xlabel(\"Admistrative Regions\", fontsize=18)\n",
        "ax2.set_ylabel(\"Count\", fontsize=18)\n",
        "ax2.legend(loc='out')"
      ],
      "execution_count": 0,
      "outputs": []
    },
    {
      "cell_type": "code",
      "metadata": {
        "id": "cHn0rqQkJ4O3",
        "colab_type": "code",
        "colab": {}
      },
      "source": [
        "#group to plot no-shows by month TBD\n",
        "ar = pd.crosstab(ns['AdminRegion'], ns['No-show'], normalize='index')\n",
        "stacked = ar.unstack().reset_index().rename(columns={0:'value'})"
      ],
      "execution_count": 0,
      "outputs": []
    },
    {
      "cell_type": "code",
      "metadata": {
        "id": "571oaZluppsL",
        "colab_type": "code",
        "colab": {}
      },
      "source": [
        "#group to plot no-shows by month TBD\n",
        "ar = pd.crosstab(ns['AdminRegion'], ns['No-show'], normalize='index')\n",
        "stacked = ar.unstack().reset_index().rename(columns={0:'value'})\n",
        "plt.subplot(212)\n",
        "ax2 = sb.barplot(x=stacked.AdminRegion, y=stacked.value, hue=stacked['No-show'])\n",
        "ax2.set_title(\"No Show by Administrative Region\", fontsize=22)\n",
        "ax2.set_xlabel(\"Admistrative Regions\", fontsize=18)\n",
        "ax2.set_ylabel(\"Count\", fontsize=18)\n",
        "ax2.legend(loc='out')"
      ],
      "execution_count": 0,
      "outputs": []
    },
    {
      "cell_type": "code",
      "metadata": {
        "id": "2zBvI4VXpqhc",
        "colab_type": "code",
        "colab": {}
      },
      "source": [
        "#group to plot no-shows by hour TBD\n",
        "ar = pd.crosstab(ns['AdminRegion'], ns['No-show'], normalize='index')\n",
        "stacked = ar.unstack().reset_index().rename(columns={0:'value'})\n",
        "plt.subplot(212)\n",
        "ax2 = sb.barplot(x=stacked.AdminRegion, y=stacked.value, hue=stacked['No-show'])\n",
        "ax2.set_title(\"No Show by Administrative Region\", fontsize=22)\n",
        "ax2.set_xlabel(\"Admistrative Regions\", fontsize=18)\n",
        "ax2.set_ylabel(\"Count\", fontsize=18)\n",
        "ax2.legend(loc='out')"
      ],
      "execution_count": 0,
      "outputs": []
    },
    {
      "cell_type": "code",
      "metadata": {
        "id": "E1rL4FmWqNyK",
        "colab_type": "code",
        "colab": {}
      },
      "source": [
        "#group to plot no-shows by day of week\n",
        "wda = pd.crosstab(ns['_weekday_AppointmentDate'], ns['No-show'], normalize='index')\n",
        "stacked = wda.unstack().reset_index().rename(columns={0:'value'})\n",
        "plt.subplot(212)\n",
        "ax2 = sb.barplot(x=stacked._weekday_AppointmentDate, y=stacked.value, hue=stacked['No-show'])\n",
        "ax2.set_title(\"No Show by weekday appointment day \", fontsize=22)\n",
        "ax2.set_xlabel(\"Weekday of appointment\", fontsize=18)\n",
        "ax2.set_ylabel(\"Count\", fontsize=18)\n",
        "ax2.legend(loc='out')"
      ],
      "execution_count": 0,
      "outputs": []
    },
    {
      "cell_type": "code",
      "metadata": {
        "id": "LGo6ws1cqUxp",
        "colab_type": "code",
        "colab": {}
      },
      "source": [
        "#group to plot no-shows by month appt date\n",
        "mad = pd.crosstab(ns['_month_AppointmentDate'], ns['No-show'], normalize='index')\n",
        "stacked = mad.unstack().reset_index().rename(columns={0:'value'})\n",
        "plt.subplot(212)\n",
        "ax2 = sb.barplot(x=stacked._month_AppointmentDate, y=stacked.value, hue=stacked['No-show'])\n",
        "ax2.set_title(\"No Show by month of appointment\", fontsize=22)\n",
        "ax2.set_xlabel(\"Month of appointment\", fontsize=18)\n",
        "ax2.set_ylabel(\"Count\", fontsize=18)\n",
        "ax2.legend(loc='out')\n"
      ],
      "execution_count": 0,
      "outputs": []
    },
    {
      "cell_type": "code",
      "metadata": {
        "id": "m9eNaTANpqu1",
        "colab_type": "code",
        "colab": {}
      },
      "source": [
        "#group to plot no-shows by wait\n",
        "ns['Wait']= (ns['AppointmentDate'] - ns['ScheduledDate']).dt.days\n",
        "wt = pd.crosstab(ns['Wait'], ns['No-show'], normalize='index')\n",
        "stacked = wt.unstack().reset_index().rename(columns={0:'value'})\n",
        "plt.subplot(212)\n",
        "ax2 = sb.barplot(x=stacked.Wait, y=stacked.value, hue=stacked['No-show'])\n",
        "ax2.set_title(\"No Show by wait time to appointment (days)\", fontsize=22)\n",
        "ax2.set_xlabel(\"Wait time to appointment (days)\", fontsize=18)\n",
        "ax2.set_ylabel(\"Count\", fontsize=18)\n",
        "ax2.legend(loc='out')"
      ],
      "execution_count": 0,
      "outputs": []
    },
    {
      "cell_type": "code",
      "metadata": {
        "id": "-VIBPf0pH9JP",
        "colab_type": "code",
        "colab": {}
      },
      "source": [
        ""
      ],
      "execution_count": 0,
      "outputs": []
    },
    {
      "cell_type": "code",
      "metadata": {
        "id": "ZQwaw2ngpqdV",
        "colab_type": "code",
        "colab": {}
      },
      "source": [
        "nscopy.head()"
      ],
      "execution_count": 0,
      "outputs": []
    },
    {
      "cell_type": "code",
      "metadata": {
        "id": "UzkXnZr0lHP-",
        "colab_type": "code",
        "colab": {}
      },
      "source": [
        "#calculating wait\n",
        "ns1=ns.copy()\n",
        "ns1['Wait'] = (ns['AppointmentDate'] - ns['ScheduledDate']).dt.days"
      ],
      "execution_count": 0,
      "outputs": []
    },
    {
      "cell_type": "code",
      "metadata": {
        "id": "zVskRnYXwmY5",
        "colab_type": "code",
        "colab": {}
      },
      "source": [
        "ns1.head()"
      ],
      "execution_count": 0,
      "outputs": []
    },
    {
      "cell_type": "code",
      "metadata": {
        "id": "i0KGWVtblgo-",
        "colab_type": "code",
        "colab": {}
      },
      "source": [
        "ns1.Wait.describe()"
      ],
      "execution_count": 0,
      "outputs": []
    },
    {
      "cell_type": "code",
      "metadata": {
        "id": "431dkM36lj0c",
        "colab_type": "code",
        "colab": {}
      },
      "source": [
        "ns['Wait'] = (ns['AppointmentDate'] - ns['ScheduledDate']).dt.days"
      ],
      "execution_count": 0,
      "outputs": []
    },
    {
      "cell_type": "code",
      "metadata": {
        "id": "jiSZpGvxlkDv",
        "colab_type": "code",
        "colab": {}
      },
      "source": [
        "Scheduled = (ns['ScheduledDate'].dt.date.max() - ns['ScheduledDate'].dt.date.min()).days\n",
        "Appointment = (ns['AppointmentDate'].dt.date.max() - ns['AppointmentDate'].dt.date.min()).days\n",
        "Wait_range = ns['Wait'].max() - ns['Wait'].min() \n",
        "print(f\"Schedule range: {Scheduled} days. \\n\\\n",
        "        First: {ns['ScheduledDate'].dt.date.min()} \\n\\\n",
        "        Last:  {ns['ScheduledDate'].dt.date.max()} \\n\")\n",
        "print(\"*\"*50, \"\\n\")\n",
        "print(f\"Appointment range {Appointment} days. \\n\\\n",
        "        First: {ns['AppointmentDate'].dt.date.min()} \\n\\\n",
        "        Last:  {ns['AppointmentDate'].dt.date.max()}\")\n",
        "print(\"*\"*50, \"\\n\")\n",
        "print(f\"Wait time range: {Wait_range} days. \\n\\\n",
        "        Min: {ns['Wait'].min()} \\n\\\n",
        "        Max: {ns['Wait'].max()}\")"
      ],
      "execution_count": 0,
      "outputs": []
    },
    {
      "cell_type": "code",
      "metadata": {
        "id": "_J2f0r31i-Uz",
        "colab_type": "code",
        "colab": {}
      },
      "source": [
        "enable_plotly_in_cell()\n",
        "group_temp = ns[(ns['Wait'] < 70) & (ns['Wait'] >= -1)].groupby(['Wait', 'No-show'])['PatientId'].count() \\\n",
        "                        / ns[(ns['Wait'] < 70) & (ns['Wait'] >= -1)].groupby(['Wait'])['PatientId'].count() \n",
        "fig = group_temp.unstack().iplot(kind='bar', barmode='stack', asFigure=True,\n",
        "                           title='No-shows according to wait (days) for appointment',\n",
        "                           xTitle='Wait for Appointment (days)', yTitle='No-show %')\n",
        "fig.layout.xaxis.type = 'category'\n",
        "iplot(fig)"
      ],
      "execution_count": 0,
      "outputs": []
    },
    {
      "cell_type": "code",
      "metadata": {
        "id": "yoi3nOeYkZRt",
        "colab_type": "code",
        "colab": {}
      },
      "source": [
        "plt.figure(figsize=(14,6))\n",
        "sb.countplot(x='Wait', hue='No-show', data=ns[(ns['Wait'] < 10) & (ns['Wait'] >= -1)]) "
      ],
      "execution_count": 0,
      "outputs": []
    },
    {
      "cell_type": "markdown",
      "metadata": {
        "id": "nEwoU9Ld4P4h",
        "colab_type": "text"
      },
      "source": [
        "-1 wait time is most likely same-day walk-in treatment, thus nearly no no-shows "
      ]
    },
    {
      "cell_type": "code",
      "metadata": {
        "id": "U-93UPXdjqmY",
        "colab_type": "code",
        "colab": {}
      },
      "source": [
        "ns = ns[(ns['Wait'] >= -1) & (ns['Wait'] <=100)]"
      ],
      "execution_count": 0,
      "outputs": []
    },
    {
      "cell_type": "code",
      "metadata": {
        "id": "XDHYLhLJ7IeQ",
        "colab_type": "code",
        "colab": {}
      },
      "source": [
        "enable_plotly_in_cell()\n",
        "ns.groupby([ns.ScheduledDate.dt.date,'No-show'])['PatientId'].count().unstack().fillna(0).iplot(kind='bar',barmode='stack',title='No-shows by appointment dates', xTitle='Dates', yTitle='Count')\n"
      ],
      "execution_count": 0,
      "outputs": []
    },
    {
      "cell_type": "code",
      "metadata": {
        "id": "CuAsS4yM8V1a",
        "colab_type": "code",
        "colab": {}
      },
      "source": [
        "frequentFlyers = ns.groupby(['PatientId'])['AppointmentId'].count().sort_values(ascending=False).head(10) \n",
        "ns[ns.PatientId.isin(frequentFlyers.index)]['No-show'].value_counts(normalize=True).plot(kind='bar')"
      ],
      "execution_count": 0,
      "outputs": []
    },
    {
      "cell_type": "code",
      "metadata": {
        "id": "TaQTkPstQP77",
        "colab_type": "code",
        "colab": {}
      },
      "source": [
        "ns.Gender = ns['Gender'].map({\"F\":0, \"M\":1})\n",
        "ns['No-show'] = ns['No-show'].map({\"No\":0, \"Yes\":1})"
      ],
      "execution_count": 0,
      "outputs": []
    },
    {
      "cell_type": "code",
      "metadata": {
        "id": "kk63h5RLR8mV",
        "colab_type": "code",
        "colab": {}
      },
      "source": [
        "df_dummies = pd.get_dummies(ns['Handicap'], drop_first=True,prefix=(str('Handicap')))\n",
        "ns = pd.concat([ns, df_dummies], axis=1)\n",
        "ns.drop('Handicap', axis=1, inplace=True)"
      ],
      "execution_count": 0,
      "outputs": []
    },
    {
      "cell_type": "code",
      "metadata": {
        "id": "VhnWgPPu9NvW",
        "colab_type": "code",
        "colab": {}
      },
      "source": [
        "ns.head()"
      ],
      "execution_count": 0,
      "outputs": []
    },
    {
      "cell_type": "code",
      "metadata": {
        "id": "jzsHNtiw9VNf",
        "colab_type": "code",
        "colab": {}
      },
      "source": [
        "ns['ScheduledDate'] = pd.to_datetime(ns['ScheduledDate'])\n",
        "ns['_weekdayName_'+str('ScheduledDate')] = ns['ScheduledDate'].dt.weekday_name \n",
        "ns['_weekday_'+str('ScheduledDate')] = ns['ScheduledDate'].dt.weekday\n",
        "ns['_day_'+str('ScheduledDate')] = ns['ScheduledDate'].dt.day \n",
        "ns['_month_'+str('ScheduledDate')] = ns['ScheduledDate'].dt.month\n",
        "ns['_hour_'+str('ScheduledDate')] = ns['ScheduledDate'].dt.hour\n",
        "ns['_minute_'+str('ScheduledDate')] = ns['ScheduledDate'].dt.minute \n",
        "\n",
        "# df[col] = df[col].dt.date.astype('datetime64[ns]')"
      ],
      "execution_count": 0,
      "outputs": []
    },
    {
      "cell_type": "code",
      "metadata": {
        "id": "jbl58nFf_s6c",
        "colab_type": "code",
        "colab": {}
      },
      "source": [
        "ns['AppointmentDate'] = pd.to_datetime(ns['AppointmentDate'])\n",
        "ns['_weekdayName_'+str('AppointmentDate')] = ns['AppointmentDate'].dt.weekday_name \n",
        "ns['_weekday_'+str('AppointmentDate')] = ns['AppointmentDate'].dt.weekday\n",
        "ns['_day_'+str('AppointmentDate')] = ns['AppointmentDate'].dt.day \n",
        "ns['_month_'+str('AppointmentDate')] = ns['AppointmentDate'].dt.month\n",
        "\n",
        "# df[col] = df[col].dt.date.astype('datetime64[ns]')"
      ],
      "execution_count": 0,
      "outputs": []
    },
    {
      "cell_type": "code",
      "metadata": {
        "id": "RxgjouTF-CjP",
        "colab_type": "code",
        "colab": {}
      },
      "source": [
        "ns.head()"
      ],
      "execution_count": 0,
      "outputs": []
    },
    {
      "cell_type": "code",
      "metadata": {
        "id": "anaU01WTpHtM",
        "colab_type": "code",
        "colab": {}
      },
      "source": [
        ""
      ],
      "execution_count": 0,
      "outputs": []
    },
    {
      "cell_type": "code",
      "metadata": {
        "id": "t42O8RIJ-Ctk",
        "colab_type": "code",
        "colab": {}
      },
      "source": [
        "nscopy = ns.copy()"
      ],
      "execution_count": 0,
      "outputs": []
    },
    {
      "cell_type": "code",
      "metadata": {
        "id": "aiuUrvMF-Cqe",
        "colab_type": "code",
        "colab": {}
      },
      "source": [
        "nscopy.drop(['_weekdayName_AppointmentDate', 'AppointmentId', 'PatientId', 'AgeGroup',\n",
        "                         'ScheduledDate', 'AppointmentDate', '_weekdayName_AppointmentDate',\n",
        "                         '_weekdayName_ScheduledDate'], axis=1, inplace=True)"
      ],
      "execution_count": 0,
      "outputs": []
    },
    {
      "cell_type": "code",
      "metadata": {
        "id": "VfCWUTQwCBpq",
        "colab_type": "code",
        "colab": {}
      },
      "source": [
        "nscopy.drop(['Neighborhood'], axis=1, inplace=True)"
      ],
      "execution_count": 0,
      "outputs": []
    },
    {
      "cell_type": "code",
      "metadata": {
        "id": "sTE8mxOqCTBm",
        "colab_type": "code",
        "colab": {}
      },
      "source": [
        "nscopy.dtypes"
      ],
      "execution_count": 0,
      "outputs": []
    },
    {
      "cell_type": "code",
      "metadata": {
        "id": "d5v22O9RBW8C",
        "colab_type": "code",
        "colab": {}
      },
      "source": [
        "nscopy.astype(float).corr()['No-show'].sort_values(ascending=False).head(10)"
      ],
      "execution_count": 0,
      "outputs": []
    },
    {
      "cell_type": "code",
      "metadata": {
        "id": "1HVcCioyC4Zh",
        "colab_type": "code",
        "colab": {}
      },
      "source": [
        "plt.figure(figsize=(20,15))\n",
        "plt.title('Feature correlation')\n",
        "sb.heatmap(nscopy.astype(float).corr(), vmax=1.0 )\n",
        "plt.show()"
      ],
      "execution_count": 0,
      "outputs": []
    },
    {
      "cell_type": "code",
      "metadata": {
        "id": "mEPkvKOdDKB_",
        "colab_type": "code",
        "colab": {}
      },
      "source": [
        "y_train = nscopy['No-show']\n",
        "X_train = nscopy.drop('No-show', axis=1)"
      ],
      "execution_count": 0,
      "outputs": []
    },
    {
      "cell_type": "code",
      "metadata": {
        "id": "zZTNoxQsDXBT",
        "colab_type": "code",
        "colab": {}
      },
      "source": [
        "from sklearn.model_selection import train_test_split\n",
        "X_train, X_val, y_train, y_val = train_test_split(X_train, y_train, test_size=.25)"
      ],
      "execution_count": 0,
      "outputs": []
    },
    {
      "cell_type": "code",
      "metadata": {
        "id": "_gVvs7AMDc2h",
        "colab_type": "code",
        "colab": {}
      },
      "source": [
        "from sklearn.metrics import accuracy_score, confusion_matrix, classification_report\n",
        "from sklearn.model_selection import cross_val_score\n",
        "from sklearn.preprocessing import LabelEncoder, StandardScaler\n",
        "from sklearn.pipeline import Pipeline\n",
        "from sklearn.model_selection import train_test_split, KFold, cross_validate\n",
        "from sklearn.metrics import accuracy_score\n",
        "from sklearn.cluster import KMeans\n",
        "from sklearn.decomposition import PCA\n",
        "from sklearn.svm import SVC\n",
        "from sklearn.linear_model import RidgeClassifier, SGDClassifier, LogisticRegression\n",
        "from sklearn.svm import SVC, LinearSVC\n",
        "from sklearn.neighbors import KNeighborsClassifier\n",
        "from sklearn.tree import DecisionTreeClassifier\n",
        "from xgboost import XGBClassifier\n",
        "from sklearn.naive_bayes import MultinomialNB\n",
        "from sklearn.feature_selection import SelectFromModel\n",
        "from sklearn.ensemble import RandomForestClassifier, GradientBoostingClassifier, ExtraTreesClassifier, BaggingClassifier, VotingClassifier, RandomTreesEmbedding"
      ],
      "execution_count": 0,
      "outputs": []
    },
    {
      "cell_type": "code",
      "metadata": {
        "id": "h_ZYN9FmDmvo",
        "colab_type": "code",
        "colab": {}
      },
      "source": [
        "clfs = []\n",
        "seed = 3\n",
        "clfs.append((\"LogReg\", \n",
        "             Pipeline([(\"Scaler\", StandardScaler()),\n",
        "                       (\"LogReg\", LogisticRegression())])))\n",
        "clfs.append((\"XGBClassifier\",\n",
        "             Pipeline([(\"Scaler\", StandardScaler()),\n",
        "                       (\"XGB\", XGBClassifier())]))) \n",
        "clfs.append((\"KNN\", \n",
        "             Pipeline([(\"Scaler\", StandardScaler()),\n",
        "                       (\"KNN\", KNeighborsClassifier())]))) \n",
        "clfs.append((\"DecisionTreeClassifier\", \n",
        "             Pipeline([(\"Scaler\", StandardScaler()),\n",
        "                       (\"DecisionTrees\", DecisionTreeClassifier())]))) \n",
        "clfs.append((\"RandomForestClassifier\", \n",
        "             Pipeline([(\"Scaler\", StandardScaler()),\n",
        "                       (\"RandomForest\", RandomForestClassifier())]))) \n",
        "clfs.append((\"GradientBoostingClassifier\", \n",
        "             Pipeline([(\"Scaler\", StandardScaler()),\n",
        "                       (\"GradientBoosting\", GradientBoostingClassifier(max_features=15, \n",
        "                                                                       n_estimators=600))]))) \n",
        "clfs.append((\"RidgeClassifier\", \n",
        "             Pipeline([(\"Scaler\", StandardScaler()),\n",
        "                       (\"RidgeClassifier\", RidgeClassifier())])))\n",
        "clfs.append((\"BaggingRidgeClassifier\",\n",
        "             Pipeline([(\"Scaler\", StandardScaler()),\n",
        "                       (\"BaggingClassifier\", BaggingClassifier())])))\n",
        "clfs.append((\"ExtraTreesClassifier\",\n",
        "             Pipeline([(\"Scaler\", StandardScaler()),\n",
        "                       (\"ExtraTrees\", ExtraTreesClassifier())])))\n",
        "scoring = 'accuracy'\n",
        "n_folds = 10\n",
        "results, names  = [], [] \n",
        "for name, model  in clfs:\n",
        "    kfold = KFold(n_splits=n_folds, random_state=seed)\n",
        "    cv_results = cross_val_score(model, X_train, y_train, \n",
        "                                 cv=kfold, scoring=scoring, n_jobs=-1)    \n",
        "    names.append(name)\n",
        "    results.append(cv_results)    \n",
        "    msg = \"%s: %f (+/- %f)\" % (name, cv_results.mean(),  \n",
        "                               cv_results.std())\n",
        "    print(msg)\n",
        "fig = plt.figure(figsize=(15,6))\n",
        "fig.suptitle('Classifier Algorithm Comparison', fontsize=22)\n",
        "ax = fig.add_subplot(111)\n",
        "sb.boxplot(x=names, y=results)\n",
        "ax.set_xticklabels(names)\n",
        "ax.set_xlabel(\"Algorithmn\", fontsize=20)\n",
        "ax.set_ylabel(\"Accuracy of Models\", fontsize=18)\n",
        "ax.set_xticklabels(ax.get_xticklabels(),rotation=45)\n",
        "plt.show()"
      ],
      "execution_count": 0,
      "outputs": []
    },
    {
      "cell_type": "code",
      "metadata": {
        "id": "CWJGy3UXETbN",
        "colab_type": "code",
        "colab": {}
      },
      "source": [
        "import scipy as sp \n",
        "from sklearn.model_selection import RandomizedSearchCV\n",
        "from hyperopt import fmin, hp, tpe, Trials, space_eval, STATUS_OK, STATUS_RUNNING\n",
        "from functools import partial\n",
        "from sklearn.metrics import confusion_matrix"
      ],
      "execution_count": 0,
      "outputs": []
    },
    {
      "cell_type": "code",
      "metadata": {
        "id": "e9pG4-FXEv7g",
        "colab_type": "code",
        "colab": {}
      },
      "source": [
        "from sklearn.model_selection import StratifiedKFold\n",
        "\n",
        "def objective(params):\n",
        "    params = {\n",
        "        'max_depth': int(params['max_depth']),\n",
        "        'gamma': \"{:.3f}\".format(params['gamma']),\n",
        "        'reg_alpha': \"{:.3f}\".format(params['reg_alpha']),\n",
        "        'learning_rate': \"{:.3f}\".format(params['learning_rate']),\n",
        "        'gamma': \"{:.3f}\".format(params['gamma']),\n",
        "        'colsample_bytree': '{:.3f}'.format(params['colsample_bytree']),\n",
        "    }\n",
        "    \n",
        "    clf = XGBClassifier(\n",
        "        n_estimators=600,\n",
        "        n_jobs=-1,\n",
        "        **params\n",
        "    )\n",
        "\n",
        "    score = cross_val_score(clf, X_train, y_train, scoring='accuracy', cv=StratifiedKFold()).mean()\n",
        "    print(\"Accuracy {:.8f} params {}\".format(-score, params))\n",
        "    return -score\n",
        "\n",
        "space = {\n",
        "    'max_depth': hp.quniform('max_depth', 2, 8, 1),\n",
        "    'reg_alpha':  hp.uniform('reg_alpha', 0.01, 0.4),\n",
        "    'reg_lambda': hp.uniform('reg_lambda', 0.7, 1.0),\n",
        "    'learning_rate': hp.uniform('learning_rate', 0.05, 0.2),\n",
        "    'colsample_bytree': hp.uniform('colsample_bytree', 0.3, 1.0),\n",
        "    'gamma': hp.uniform('gamma', 0.0, 0.5),\n",
        "}\n",
        "\n",
        "best = fmin(fn=objective,\n",
        "            space=space,\n",
        "            algo=tpe.suggest,\n",
        "            max_evals=50)"
      ],
      "execution_count": 0,
      "outputs": []
    },
    {
      "cell_type": "code",
      "metadata": {
        "id": "Tpmr1ecdETXI",
        "colab_type": "code",
        "colab": {}
      },
      "source": [
        "best['max_depth'] = int(best['max_depth'])\n",
        "print(\"BEST PARAMS: \", best)"
      ],
      "execution_count": 0,
      "outputs": []
    },
    {
      "cell_type": "code",
      "metadata": {
        "id": "f7KhCmShETRl",
        "colab_type": "code",
        "colab": {}
      },
      "source": [
        "clf = XGBClassifier(n_estimators=5000,n_jobs=-1,**best)"
      ],
      "execution_count": 0,
      "outputs": []
    },
    {
      "cell_type": "code",
      "metadata": {
        "id": "RfKOPzvVEcOr",
        "colab_type": "code",
        "colab": {}
      },
      "source": [
        "clf.fit(X_train, y_train)"
      ],
      "execution_count": 0,
      "outputs": []
    },
    {
      "cell_type": "code",
      "metadata": {
        "id": "kVWGyHZ_EcK0",
        "colab_type": "code",
        "colab": {}
      },
      "source": [
        "from sklearn.utils.multiclass import unique_labels\n",
        "from sklearn.metrics import accuracy_score\n",
        "pred = clf.predict(X_val)"
      ],
      "execution_count": 0,
      "outputs": []
    },
    {
      "cell_type": "code",
      "metadata": {
        "id": "z7fOkUHjEcHZ",
        "colab_type": "code",
        "colab": {}
      },
      "source": [
        "print(f'Accuracy of Classifier with best Hyper Parameeters: {round(accuracy_score(y_val, pred, normalize=True),4)}')"
      ],
      "execution_count": 0,
      "outputs": []
    },
    {
      "cell_type": "code",
      "metadata": {
        "id": "RZW7Jjn2Ek_D",
        "colab_type": "code",
        "colab": {}
      },
      "source": [
        "class_names = nscopy['No-show'].unique()\n",
        "def plot_confusion_matrix(y_true, y_pred, classes,\n",
        "                          normalize=False,\n",
        "                          title=None,\n",
        "                          cmap=plt.cm.Blues):\n",
        "    \"\"\"\n",
        "    This function prints and plots the confusion matrix.\n",
        "    Normalization can be applied by setting `normalize=True`.\n",
        "    \"\"\"\n",
        "    if not title:\n",
        "        if normalize:\n",
        "            title = 'Normalized confusion matrix'\n",
        "        else:\n",
        "            title = 'Confusion matrix, without normalization'\n",
        "    # Compute confusion matrix\n",
        "    cm = confusion_matrix(y_true, y_pred)\n",
        "    # Only use the labels that appear in the data\n",
        "    classes = classes[unique_labels(y_true, y_pred)]\n",
        "    if normalize:\n",
        "        cm = cm.astype('float') / cm.sum(axis=1)[:, np.newaxis]\n",
        "        print(\"Normalized confusion matrix: \")\n",
        "    else:\n",
        "        print('Confusion matrix, without normalization: ')\n",
        "\n",
        "    print(cm)\n",
        "    fig, ax = plt.subplots()\n",
        "    im = ax.imshow(cm, interpolation='nearest', cmap=cmap)\n",
        "    ax.figure.colorbar(im, ax=ax)\n",
        "    # We want to show all ticks...\n",
        "    ax.set(xticks=np.arange(cm.shape[1]),\n",
        "           yticks=np.arange(cm.shape[0]),\n",
        "           # ... and label them with the respective list entries\n",
        "           xticklabels=classes, yticklabels=classes,\n",
        "           title=title,\n",
        "           ylabel='True label',\n",
        "           xlabel='Predicted label')\n",
        "    # Rotate the tick labels and set their alignment.\n",
        "    plt.setp(ax.get_xticklabels(), rotation=45, ha=\"right\",\n",
        "             rotation_mode=\"anchor\")\n",
        "    # Loop over data dimensions and create text annotations.\n",
        "    fmt = '.2f' if normalize else 'd'\n",
        "    thresh = cm.max() / 2.\n",
        "    for i in range(cm.shape[0]):\n",
        "        for j in range(cm.shape[1]):\n",
        "            ax.text(j, i, format(cm[i, j], fmt),\n",
        "                    ha=\"center\", va=\"center\",\n",
        "                    color=\"white\" if cm[i, j] > thresh else \"black\")\n",
        "    fig.tight_layout()\n",
        "    return ax\n",
        "np.set_printoptions(precision=2)\n",
        "# Plot non-normalized confusion matrix\n",
        "plot_confusion_matrix(y_val, pred, classes=class_names,\n",
        "                      title='Confusion matrix, without normalization')\n",
        "# Plot normalized confusion matrix\n",
        "plot_confusion_matrix(y_val, pred, classes=class_names, normalize=True,\n",
        "                      title='Normalized confusion matrix')\n",
        "plt.show()"
      ],
      "execution_count": 0,
      "outputs": []
    },
    {
      "cell_type": "code",
      "metadata": {
        "id": "HTtTZ41VEk65",
        "colab_type": "code",
        "colab": {}
      },
      "source": [
        ""
      ],
      "execution_count": 0,
      "outputs": []
    },
    {
      "cell_type": "code",
      "metadata": {
        "id": "ubwfImJ-Ek3p",
        "colab_type": "code",
        "colab": {}
      },
      "source": [
        ""
      ],
      "execution_count": 0,
      "outputs": []
    },
    {
      "cell_type": "code",
      "metadata": {
        "id": "8TH9rwVxbN8t",
        "colab_type": "code",
        "colab": {}
      },
      "source": [
        "sb.countplot(x='No-show', data=ns,palette='hls')"
      ],
      "execution_count": 0,
      "outputs": []
    },
    {
      "cell_type": "code",
      "metadata": {
        "id": "MfaTv_r25Py0",
        "colab_type": "code",
        "colab": {}
      },
      "source": [
        "noshow.head()"
      ],
      "execution_count": 0,
      "outputs": []
    },
    {
      "cell_type": "code",
      "metadata": {
        "id": "XQwW0fKQ5QQ2",
        "colab_type": "code",
        "colab": {}
      },
      "source": [
        "noshow['scheduledDate'] = pd.to_datetime(noshow['ScheduledDay']).dt.date\n",
        "noshow['scheduledTime'] = pd.to_datetime(noshow['ScheduledDay']).dt.time"
      ],
      "execution_count": 0,
      "outputs": []
    },
    {
      "cell_type": "code",
      "metadata": {
        "id": "9MPVGFms5Qa4",
        "colab_type": "code",
        "colab": {}
      },
      "source": [
        "noshow.head()"
      ],
      "execution_count": 0,
      "outputs": []
    },
    {
      "cell_type": "code",
      "metadata": {
        "id": "_mHgmq0R62a1",
        "colab_type": "code",
        "colab": {}
      },
      "source": [
        "noshow['appointmentDate'] = pd.to_datetime(noshow['AppointmentDay']).dt.date\n",
        "noshow['appointmentTime'] = pd.to_datetime(noshow['AppointmentDay']).dt.time"
      ],
      "execution_count": 0,
      "outputs": []
    },
    {
      "cell_type": "code",
      "metadata": {
        "id": "PZGn59Ul6_Sz",
        "colab_type": "code",
        "colab": {}
      },
      "source": [
        "noshow.head()"
      ],
      "execution_count": 0,
      "outputs": []
    },
    {
      "cell_type": "markdown",
      "metadata": {
        "id": "zokUQtFqt3KY",
        "colab_type": "text"
      },
      "source": [
        ""
      ]
    },
    {
      "cell_type": "code",
      "metadata": {
        "id": "7IQu5GEP78mQ",
        "colab_type": "code",
        "colab": {}
      },
      "source": [
        "noshow['scheduledDate'] = pd.to_datetime(noshow['scheduledDate'])\n",
        "noshow['appointmentDate'] = pd.to_datetime(noshow['appointmentDate'])\n",
        "noshow.dtypes"
      ],
      "execution_count": 0,
      "outputs": []
    },
    {
      "cell_type": "code",
      "metadata": {
        "id": "v3-L7dPE8YMc",
        "colab_type": "code",
        "colab": {}
      },
      "source": [
        "#noshow['scheduledTime'] = pd.to_datetime(noshow.scheduledTime, format='%H:%M:%S').dt.time[0]\n",
        "#noshow['appointmentTime'] = pd.to_datetime(noshow.appointmentTime, format='%H:%M:%S').dt.time[0]\n",
        "#noshow.dtypes"
      ],
      "execution_count": 0,
      "outputs": []
    },
    {
      "cell_type": "code",
      "metadata": {
        "id": "i4E0SPiM-sDh",
        "colab_type": "code",
        "colab": {}
      },
      "source": [
        "noshow['scheduledHour'] = pd.to_datetime(noshow['scheduledTime'], format='%H:%M:%S').dt.hour\n",
        "noshow.head()"
      ],
      "execution_count": 0,
      "outputs": []
    },
    {
      "cell_type": "code",
      "metadata": {
        "id": "xQuSRQq6_20-",
        "colab_type": "code",
        "colab": {}
      },
      "source": [
        " noshow['appt_to_schedule_time'] = noshow['appointmentDate'] - noshow['scheduledDate']"
      ],
      "execution_count": 0,
      "outputs": []
    },
    {
      "cell_type": "code",
      "metadata": {
        "id": "PIb3XHIG76oh",
        "colab_type": "code",
        "colab": {}
      },
      "source": [
        "noshow['appointmentMonth'] = pd.to_datetime(noshow['appointmentDate'], format='%Y:%M:%D').dt.month\n",
        "noshow.head()"
      ],
      "execution_count": 0,
      "outputs": []
    },
    {
      "cell_type": "code",
      "metadata": {
        "id": "8Q-qJH4K76dm",
        "colab_type": "code",
        "colab": {}
      },
      "source": [
        "bins= [0,14,24,64,115]\n",
        "labels = ['Child','Youth','Adult','Senior']\n",
        "noshow['AgeGroup'] = pd.cut(noshow['Age'], bins=bins, labels=labels, right=False)\n",
        "noshow.head()"
      ],
      "execution_count": 0,
      "outputs": []
    },
    {
      "cell_type": "code",
      "metadata": {
        "id": "Q6_79-LQInJn",
        "colab_type": "code",
        "colab": {}
      },
      "source": [
        "bins_timeofday= [0,6,12,18,24]\n",
        "labels_timeofday = ['night','morning','afternoon','evening']\n",
        "noshow['timeofday'] = pd.cut(noshow['scheduledHour'], bins=bins_timeofday, labels=labels_timeofday, right=False)\n",
        "noshow.head()"
      ],
      "execution_count": 0,
      "outputs": []
    },
    {
      "cell_type": "code",
      "metadata": {
        "id": "sxkhz9fZInFw",
        "colab_type": "code",
        "colab": {}
      },
      "source": [
        "bins_timeofyear= [0,3,5,9,12]\n",
        "labels_timeofyear = ['1Q','2Q','3Q','4Q']\n",
        "noshow['appointmentQuarter'] = pd.cut(noshow['appointmentMonth'], bins=bins_timeofyear, labels=labels_timeofyear, right=False)\n",
        "noshow.head()"
      ],
      "execution_count": 0,
      "outputs": []
    },
    {
      "cell_type": "code",
      "metadata": {
        "id": "EK-bh_RTK5ks",
        "colab_type": "code",
        "colab": {}
      },
      "source": [
        ""
      ],
      "execution_count": 0,
      "outputs": []
    },
    {
      "cell_type": "code",
      "metadata": {
        "id": "kzo7bbXVK6JO",
        "colab_type": "code",
        "colab": {}
      },
      "source": [
        ""
      ],
      "execution_count": 0,
      "outputs": []
    },
    {
      "cell_type": "code",
      "metadata": {
        "id": "dm3cUwN-K6Nx",
        "colab_type": "code",
        "colab": {}
      },
      "source": [
        ""
      ],
      "execution_count": 0,
      "outputs": []
    },
    {
      "cell_type": "code",
      "metadata": {
        "id": "SQhpybpa81d9",
        "colab_type": "code",
        "colab": {}
      },
      "source": [
        "obj_df = noshow.select_dtypes(include=['object']).copy()\n",
        "obj_df.head()"
      ],
      "execution_count": 0,
      "outputs": []
    },
    {
      "cell_type": "code",
      "metadata": {
        "id": "mtCayuXr9DYc",
        "colab_type": "code",
        "colab": {}
      },
      "source": [
        "obj_df[obj_df.isnull().any(axis=1)]"
      ],
      "execution_count": 0,
      "outputs": []
    },
    {
      "cell_type": "code",
      "metadata": {
        "id": "9GCgGV9f-UcM",
        "colab_type": "code",
        "colab": {}
      },
      "source": [
        "obj_df.Neighbourhood.unique()"
      ],
      "execution_count": 0,
      "outputs": []
    },
    {
      "cell_type": "code",
      "metadata": {
        "id": "oCJ4HVCXd0_2",
        "colab_type": "code",
        "colab": {}
      },
      "source": [
        "noshow1 = noshow.drop(['PatientId','AppointmentID'], axis=1)\n",
        "noshow1.head()"
      ],
      "execution_count": 0,
      "outputs": []
    },
    {
      "cell_type": "code",
      "metadata": {
        "id": "UmS7XS7KeoGI",
        "colab_type": "code",
        "colab": {}
      },
      "source": [
        "noshow1.isnull().sum()"
      ],
      "execution_count": 0,
      "outputs": []
    },
    {
      "cell_type": "code",
      "metadata": {
        "id": "c-f3n2XyeuBm",
        "colab_type": "code",
        "colab": {}
      },
      "source": [
        "from sklearn.preprocessing import LabelEncoder\n",
        "label_encoder = LabelEncoder()\n",
        "gender_cat = noshow1['Gender']\n",
        "gender_encoded = label_encoder.fit_transform(gender_cat)\n",
        "gender_encoded[0:5]"
      ],
      "execution_count": 0,
      "outputs": []
    },
    {
      "cell_type": "code",
      "metadata": {
        "id": "PVAz5mhOfA1U",
        "colab_type": "code",
        "colab": {}
      },
      "source": [
        "gender_DF = pd.DataFrame(gender_encoded,columns=['male_gender'])\n",
        "gender_DF.head()"
      ],
      "execution_count": 0,
      "outputs": []
    },
    {
      "cell_type": "code",
      "metadata": {
        "id": "oUZ-PVXXmE3x",
        "colab_type": "code",
        "colab": {}
      },
      "source": [
        "noshow1['No-show'] = noshow1['No-show'].map({'Yes': 1, 'No': 0})"
      ],
      "execution_count": 0,
      "outputs": []
    },
    {
      "cell_type": "code",
      "metadata": {
        "id": "L1pSnyncfA5I",
        "colab_type": "code",
        "colab": {}
      },
      "source": [
        "Neighbourhood_cat = noshow1['Neighbourhood']\n",
        "Neighbourhood_encoded = label_encoder.fit_transform(Neighbourhood_cat)\n",
        "Neighbourhood_encoded[0:100]"
      ],
      "execution_count": 0,
      "outputs": []
    },
    {
      "cell_type": "code",
      "metadata": {
        "id": "6hlSwVevtHlv",
        "colab_type": "code",
        "colab": {}
      },
      "source": [
        "colnames = ['JARDIM DA PENHA', 'MATA DA PRAIA', 'PONTAL DE CAMBURI',\n",
        "       'REPÚBLICA', 'GOIABEIRAS', 'ANDORINHAS', 'CONQUISTA',\n",
        "       'NOVA PALESTINA', 'DA PENHA', 'TABUAZEIRO', 'BENTO FERREIRA',\n",
        "       'SÃO PEDRO', 'SANTA MARTHA', 'SÃO CRISTÓVÃO', 'MARUÍPE',\n",
        "       'GRANDE VITÓRIA', 'SÃO BENEDITO', 'ILHA DAS CAIEIRAS',\n",
        "       'SANTO ANDRÉ', 'SOLON BORGES', 'BONFIM', 'JARDIM CAMBURI',\n",
        "       'MARIA ORTIZ', 'JABOUR', 'ANTÔNIO HONÓRIO', 'RESISTÊNCIA',\n",
        "       'ILHA DE SANTA MARIA', 'JUCUTUQUARA', 'MONTE BELO',\n",
        "       'MÁRIO CYPRESTE', 'SANTO ANTÔNIO', 'BELA VISTA', 'PRAIA DO SUÁ',\n",
        "       'SANTA HELENA', 'ITARARÉ', 'INHANGUETÁ', 'UNIVERSITÁRIO',\n",
        "       'SÃO JOSÉ', 'REDENÇÃO', 'SANTA CLARA', 'CENTRO', 'PARQUE MOSCOSO',\n",
        "       'DO MOSCOSO', 'SANTOS DUMONT', 'CARATOÍRA', 'ARIOVALDO FAVALESSA',\n",
        "       'ILHA DO FRADE', 'GURIGICA', 'JOANA D´ARC', 'CONSOLAÇÃO',\n",
        "       'PRAIA DO CANTO', 'BOA VISTA', 'MORADA DE CAMBURI', 'SANTA LUÍZA',\n",
        "       'SANTA LÚCIA', 'BARRO VERMELHO', 'ESTRELINHA', 'FORTE SÃO JOÃO',\n",
        "       'FONTE GRANDE', 'ENSEADA DO SUÁ', 'SANTOS REIS', 'PIEDADE',\n",
        "       'JESUS DE NAZARETH', 'SANTA TEREZA', 'CRUZAMENTO',\n",
        "       'ILHA DO PRÍNCIPE', 'ROMÃO', 'COMDUSA', 'SANTA CECÍLIA',\n",
        "       'VILA RUBIM', 'DE LOURDES', 'DO QUADRO', 'DO CABRAL', 'HORTO',\n",
        "       'SEGURANÇA DO LAR', 'ILHA DO BOI', 'FRADINHOS', 'NAZARETH',\n",
        "       'AEROPORTO', 'ILHAS OCEÂNICAS DE TRINDADE', 'PARQUE INDUSTRIAL']"
      ],
      "execution_count": 0,
      "outputs": []
    },
    {
      "cell_type": "code",
      "metadata": {
        "id": "kDSLmjdyqhH_",
        "colab_type": "code",
        "colab": {}
      },
      "source": [
        "from sklearn.preprocessing import OneHotEncoder\n",
        "binary_encoder= OneHotEncoder(categories='auto')\n",
        "Neighbourhood_1hot = binary_encoder.fit_transform(Neighbourhood_encoded.reshape(-1,1))\n",
        "Neighbourhood_1hot_mat = Neighbourhood_1hot.toarray()\n",
        "Neighbourhood_DF = pd.DataFrame(Neighbourhood_1hot_mat,columns=colnames)\n",
        "Neighbourhood_DF.head()"
      ],
      "execution_count": 0,
      "outputs": []
    },
    {
      "cell_type": "code",
      "metadata": {
        "id": "4P42OEY_tUvy",
        "colab_type": "code",
        "colab": {}
      },
      "source": [
        "noshow1.drop(['Gender','Neighbourhood'], axis=1, inplace=True)\n",
        "noshow1.head()"
      ],
      "execution_count": 0,
      "outputs": []
    },
    {
      "cell_type": "code",
      "metadata": {
        "id": "tz-OzHvrtzJY",
        "colab_type": "code",
        "colab": {}
      },
      "source": [
        "noshow1_dmy = pd.concat([noshow1,gender_DF, Neighbourhood_DF], axis=1, verify_integrity=True)\n",
        "noshow1_dmy[0:5]"
      ],
      "execution_count": 0,
      "outputs": []
    },
    {
      "cell_type": "code",
      "metadata": {
        "id": "YffjAwaEvEDz",
        "colab_type": "code",
        "colab": {}
      },
      "source": [
        "noshow1_dmy.dtypes"
      ],
      "execution_count": 0,
      "outputs": []
    },
    {
      "cell_type": "code",
      "metadata": {
        "id": "ogYCqFvgvLaW",
        "colab_type": "code",
        "colab": {}
      },
      "source": [
        "sb.heatmap(noshow1_dmy.corr())"
      ],
      "execution_count": 0,
      "outputs": []
    },
    {
      "cell_type": "code",
      "metadata": {
        "id": "MsSdvvWtxnOz",
        "colab_type": "code",
        "colab": {}
      },
      "source": [
        "noshow1_dmy.drop('ScheduledDay',axis=1)"
      ],
      "execution_count": 0,
      "outputs": []
    },
    {
      "cell_type": "code",
      "metadata": {
        "id": "Td653tyJyEET",
        "colab_type": "code",
        "colab": {}
      },
      "source": [
        "noshow1_dmy.drop('AppointmentDay',axis=1)"
      ],
      "execution_count": 0,
      "outputs": []
    },
    {
      "cell_type": "code",
      "metadata": {
        "id": "jPf1y629vws5",
        "colab_type": "code",
        "colab": {}
      },
      "source": [
        "curt = noshow1_dmy.drop('AppointmentDay',axis=1)\n",
        "curta = curt.drop('ScheduledDay',axis=1)\n",
        "X_train, X_test, y_train, y_test = train_test_split(curta.drop('No-show',axis=1),noshow1_dmy['No-show'],test_size=0.2,random_state=200)"
      ],
      "execution_count": 0,
      "outputs": []
    },
    {
      "cell_type": "code",
      "metadata": {
        "id": "_Sy1jBuvwsMG",
        "colab_type": "code",
        "colab": {}
      },
      "source": [
        "print(X_train.shape)\n",
        "print(y_train.shape)"
      ],
      "execution_count": 0,
      "outputs": []
    },
    {
      "cell_type": "code",
      "metadata": {
        "id": "lwPJgENzw1h0",
        "colab_type": "code",
        "colab": {}
      },
      "source": [
        "X_train[0:5]"
      ],
      "execution_count": 0,
      "outputs": []
    },
    {
      "cell_type": "code",
      "metadata": {
        "id": "Nu4ldapyw-yb",
        "colab_type": "code",
        "colab": {}
      },
      "source": [
        "LogReg = LogisticRegression(solver = 'liblinear')\n",
        "LogReg.fit(X_train, y_train)"
      ],
      "execution_count": 0,
      "outputs": []
    },
    {
      "cell_type": "code",
      "metadata": {
        "id": "zUA1PUw6zob0",
        "colab_type": "code",
        "colab": {}
      },
      "source": [
        "y_pred = LogReg.predict(X_test)"
      ],
      "execution_count": 0,
      "outputs": []
    },
    {
      "cell_type": "code",
      "metadata": {
        "id": "yV5SFmrVzxk6",
        "colab_type": "code",
        "colab": {}
      },
      "source": [
        "print(classification_report(y_test,y_pred))"
      ],
      "execution_count": 0,
      "outputs": []
    },
    {
      "cell_type": "code",
      "metadata": {
        "id": "nmEGeIPQzyRH",
        "colab_type": "code",
        "colab": {}
      },
      "source": [
        "y_train_pred = cross_val_predict(LogReg,X_train, y_train,cv=5)\n",
        "confusion_matrix(y_train,y_train_pred)"
      ],
      "execution_count": 0,
      "outputs": []
    },
    {
      "cell_type": "code",
      "metadata": {
        "id": "uvmh4pKyzyUg",
        "colab_type": "code",
        "colab": {}
      },
      "source": [
        "precision_score(y_train, y_train_pred)"
      ],
      "execution_count": 0,
      "outputs": []
    },
    {
      "cell_type": "code",
      "metadata": {
        "id": "QuHV23g6zyMG",
        "colab_type": "code",
        "colab": {}
      },
      "source": [
        "metrics.f1_score(y_test, y_pred, average='weighted', labels=np.unique(y_pred))"
      ],
      "execution_count": 0,
      "outputs": []
    },
    {
      "cell_type": "code",
      "metadata": {
        "id": "LCTQ8HXq2AKN",
        "colab_type": "code",
        "colab": {}
      },
      "source": [
        "noshow1_dmy[863:864]"
      ],
      "execution_count": 0,
      "outputs": []
    },
    {
      "cell_type": "code",
      "metadata": {
        "id": "6YCncskX2Akn",
        "colab_type": "code",
        "colab": {}
      },
      "source": [
        "test_noshow = np.array()"
      ],
      "execution_count": 0,
      "outputs": []
    },
    {
      "cell_type": "code",
      "metadata": {
        "id": "St2iWeD5LuC0",
        "colab_type": "code",
        "colab": {}
      },
      "source": [
        "from sklearn.preprocessing import LabelEncoder\n",
        "le = LabelEncoder()"
      ],
      "execution_count": 0,
      "outputs": []
    },
    {
      "cell_type": "code",
      "metadata": {
        "id": "AxW3eU12NNwH",
        "colab_type": "code",
        "colab": {}
      },
      "source": [
        "categorical_feature_mask = obj_df.dtypes==object\n",
        "categorical_cols = obj_df.columns[categorical_feature_mask].tolist()"
      ],
      "execution_count": 0,
      "outputs": []
    },
    {
      "cell_type": "code",
      "metadata": {
        "id": "3J-KguQ_Mfm7",
        "colab_type": "code",
        "colab": {}
      },
      "source": [
        "obj_df[categorical_cols] = obj_df[categorical_cols].apply(lambda col: le.fit_transform(col))\n",
        "obj_df[categorical_cols].head(10)"
      ],
      "execution_count": 0,
      "outputs": []
    },
    {
      "cell_type": "code",
      "metadata": {
        "id": "hChLv6fyWPra",
        "colab_type": "code",
        "colab": {}
      },
      "source": [
        "from sklearn.preprocessing import OneHotEncoder \n",
        "onehotencoder = OneHotEncoder(handle_unknown='ignore') \n",
        "obj_df = onehotencoder.fit_transform(obj_df).toarray() "
      ],
      "execution_count": 0,
      "outputs": []
    },
    {
      "cell_type": "code",
      "metadata": {
        "id": "cl_Z-B1cYM1L",
        "colab_type": "code",
        "colab": {}
      },
      "source": [
        "X_dict = noshow.to_dict(orient='records') \n",
        "X_dict"
      ],
      "execution_count": 0,
      "outputs": []
    },
    {
      "cell_type": "code",
      "metadata": {
        "id": "M6-QVLOVX67K",
        "colab_type": "code",
        "colab": {}
      },
      "source": [
        "from sklearn.feature_extraction import DictVectorizer\n",
        "dv_X = DictVectorizer(sparse=False) "
      ],
      "execution_count": 0,
      "outputs": []
    },
    {
      "cell_type": "code",
      "metadata": {
        "id": "6SzgkR7vZWnp",
        "colab_type": "code",
        "colab": {}
      },
      "source": [
        "vocab = dv_X.vocabulary_\n",
        "vocab"
      ],
      "execution_count": 0,
      "outputs": []
    },
    {
      "cell_type": "code",
      "metadata": {
        "id": "rlJ_2FRMZhUm",
        "colab_type": "code",
        "colab": {}
      },
      "source": [
        ""
      ],
      "execution_count": 0,
      "outputs": []
    },
    {
      "cell_type": "code",
      "metadata": {
        "id": "QqdWc0b4YDfk",
        "colab_type": "code",
        "colab": {}
      },
      "source": [
        "X_encoded = dv_X.fit_transform(X_dict)\n",
        "X_encoded"
      ],
      "execution_count": 0,
      "outputs": []
    },
    {
      "cell_type": "code",
      "metadata": {
        "id": "mY4tND2PSxOo",
        "colab_type": "code",
        "colab": {}
      },
      "source": [
        "from sklearn.preprocessing import OneHotEncoder\n",
        "ohe = OneHotEncoder(sparse=False) "
      ],
      "execution_count": 0,
      "outputs": []
    },
    {
      "cell_type": "code",
      "metadata": {
        "id": "xeRdUqLWU_gW",
        "colab_type": "code",
        "colab": {}
      },
      "source": [
        "X_ohe = ohe.fit_transform(obj_df) "
      ],
      "execution_count": 0,
      "outputs": []
    },
    {
      "cell_type": "code",
      "metadata": {
        "id": "kcgc8J8HXQav",
        "colab_type": "code",
        "colab": {}
      },
      "source": [
        "print(X_ohe)"
      ],
      "execution_count": 0,
      "outputs": []
    },
    {
      "cell_type": "code",
      "metadata": {
        "id": "jkOsgp_E9HCB",
        "colab_type": "code",
        "colab": {}
      },
      "source": [
        "categories = {\"Gender\": {\"F\": 0, \"M\": 1}, \"No-Show\": {\"Yes\": 1, \"No\": 0,}, \"Neighborhood\": {\"CENTRO\": 1, \"DO MOSCOSO\": 1, \"FONTE GRANDE\":1, \"ILHA DO PRÍNCIPE\":1, \"PARQUE MOSCOSO\":1, \"PIEDADE\":1,\"SANTA CLARA\":1, \"VILA RUBIM\":1,\"ARIOVALDO FAVALESSA\":2, \"BELA VISTA\":2, \"CARATOÍRA\":2, \"DO CABRAL\":2, \"DO QUADRO\":2, \"ESTRELINHA\":2,\"GRANDE VITÓRIA\": 2, \"INHANGUETÁ\":2, \"MÁRIO CYPRESTE\":2, \"SANTO ANTÔNIO\":2, \"SANTA TEREZA\":2, \"UNIVERSITÁRIO\":2,\"BENTO FERREIRA\":3, \"CONSOLAÇÃO\":3,\"CRUZAMENTO\":3, \"DE LOURDES\":3, \"FORTE SÃO JOÃO\":3, \"FRADINHOS\":3, \"GURIGICA\":3, \"HORTO\":3, \"IHLA DE SANTA MARIA\":3, \"JESUS DE NAZARETH\":3, \"JUCUTUQUARA\":3, \"MONTE BELO\":3, \"NAZARETH\":3, \"ROMÃO\":3,\"ADORINHAS\":4, \"BONFIM\":4, \"DA PENHA\":4,\"ITARARÉ\":4, \"JOANA D´ARC\":4, \"MARUÍPE\":4, \"SANTA CECÍLIA\":4, \"SANTA MARTHA\":4, \"SANTOS DUMONT\":4,\"SÃO BENEDITO\":4, \"SÃO CRISTÓVÃO\":4, \"TABUAZEIRO\":4,\"BARRO VERMELHO\":5, \"ENSEADA DO SUÁ\":5, \"ILHA DO BOI\":5, \"ILHA DO FRADE\":5, \"PRAIA DO CANTO\":5, \"PRAIA DO SUÁ\":5, \"SANTA HELENA\":5, \"SANTA LÚCIA\":5, \"SANTA LUÍZA\":5,\"COMDUSA\":7,\"CONQUISTA\":7, \"ILHA DAS CAIEIRAS\":7,\"NOVA PALESTINA\":7, \"REDENÇÃO\":7,  \"RESISTÊNCIA\":7, \"SANTO ANDRÉ\":7, \"SANTOS REIS\":7, \"SÃO JOSÉ\":7, \"SÃO PEDRO\":7, \"AEROPORTO\":6, \"ANTÔNIO HONÓRIO\":6, \"GOIABEIRAS\":6, \"JABOUR\":6, \"MARIA ORTIZ\":6, \"SEGURANÇA DO LAR\":6, \"SOLON BORGES\":6,\"JARDIM CAMBURI\": 8, \"PARQUE INDUSTRIAL\":8, \"BOA VISTA\": 9, \"JARDIM DA PENHA\":9, \"MATA DA PRAIA\":9, \"MORADA DE CAMBURI\":9, \"PONTAL DE CAMBURI\":9,\"REPÚBLICA\":9}}\n",
        "obj_df.replace(categories, inplace=True)\n",
        "obj_df.head()"
      ],
      "execution_count": 0,
      "outputs": []
    },
    {
      "cell_type": "code",
      "metadata": {
        "id": "KxH2ZCRt76x-",
        "colab_type": "code",
        "colab": {}
      },
      "source": [
        "noshow.['No-show'] = (noshow['No-show'] == 'Male').astype(int)"
      ],
      "execution_count": 0,
      "outputs": []
    }
  ]
}